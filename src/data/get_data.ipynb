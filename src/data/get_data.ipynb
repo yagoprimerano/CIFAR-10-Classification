{
 "cells": [
  {
   "cell_type": "code",
   "execution_count": 1,
   "id": "2c65cbff-2dd1-41bb-9aa7-aeff1d4616e5",
   "metadata": {
    "tags": []
   },
   "outputs": [],
   "source": [
    "import pickle\n",
    "import numpy as np\n",
    "import pandas as pd\n",
    "\n",
    "def unpickle(file):\n",
    "    with open(file, 'rb') as fo:\n",
    "        dict = pickle.load(fo, encoding='bytes')\n",
    "    return dict"
   ]
  },
  {
   "cell_type": "code",
   "execution_count": 2,
   "id": "ddf88adc-fd56-40f9-b89a-77cc4c33f904",
   "metadata": {
    "tags": []
   },
   "outputs": [],
   "source": [
    "def load_cifar10_batch(batch_file):\n",
    "    batch = unpickle(batch_file)\n",
    "    data = batch[b'data']\n",
    "    labels = batch[b'labels']\n",
    "    \n",
    "    # Converta os dados para um DataFrame\n",
    "    df = pd.DataFrame(data)\n",
    "    df['label'] = labels\n",
    "    \n",
    "    return df\n",
    "\n",
    "# Exemplo de carregamento de todos os batches de treinamento\n",
    "train_batches = []\n",
    "for i in range(1, 6):\n",
    "    batch_file = f'../../data/raw/cifar-10-batches-py/data_batch_{i}'\n",
    "    df_batch = load_cifar10_batch(batch_file)\n",
    "    train_batches.append(df_batch)\n",
    "\n",
    "# Combine todos os DataFrames de batches em um único DataFrame\n",
    "df_train = pd.concat(train_batches, axis=0).reset_index(drop=True)\n",
    "\n",
    "# Para carregar o batch de teste\n",
    "df_test = load_cifar10_batch('../../data/raw/cifar-10-batches-py/test_batch')"
   ]
  },
  {
   "cell_type": "code",
   "execution_count": 8,
   "id": "1b927a11-eeb4-419e-9d94-2581ed0294f9",
   "metadata": {
    "tags": []
   },
   "outputs": [
    {
     "data": {
      "text/plain": [
       "(50000, 3073)"
      ]
     },
     "execution_count": 8,
     "metadata": {},
     "output_type": "execute_result"
    }
   ],
   "source": [
    "df_train.shape"
   ]
  },
  {
   "cell_type": "code",
   "execution_count": 9,
   "id": "0802fca8-f5e7-4790-afc2-e6d740c73773",
   "metadata": {
    "tags": []
   },
   "outputs": [
    {
     "data": {
      "text/plain": [
       "(10000, 3073)"
      ]
     },
     "execution_count": 9,
     "metadata": {},
     "output_type": "execute_result"
    }
   ],
   "source": [
    "df_test.shape"
   ]
  },
  {
   "cell_type": "code",
   "execution_count": 10,
   "id": "1e0dfc87-7560-4cff-9b65-037117e5e9c2",
   "metadata": {
    "tags": []
   },
   "outputs": [],
   "source": [
    "df_train.to_csv('../../data/processed/train.csv', index=False)\n",
    "df_test.to_csv('../../data/processed/test.csv', index=False)"
   ]
  },
  {
   "cell_type": "code",
   "execution_count": 11,
   "id": "79218a09-3edc-4aae-bdba-704f815e0e0f",
   "metadata": {
    "tags": []
   },
   "outputs": [
    {
     "data": {
      "text/plain": [
       "0        6\n",
       "1        9\n",
       "2        9\n",
       "3        4\n",
       "4        1\n",
       "        ..\n",
       "49995    2\n",
       "49996    6\n",
       "49997    9\n",
       "49998    1\n",
       "49999    1\n",
       "Name: label, Length: 50000, dtype: int64"
      ]
     },
     "execution_count": 11,
     "metadata": {},
     "output_type": "execute_result"
    }
   ],
   "source": [
    "df_train.label"
   ]
  },
  {
   "cell_type": "code",
   "execution_count": 3,
   "id": "003ad0e3-4c9a-42fe-b3b7-e3cee8704586",
   "metadata": {
    "tags": []
   },
   "outputs": [],
   "source": [
    "#df_train.shape"
   ]
  },
  {
   "cell_type": "code",
   "execution_count": 4,
   "id": "090b87da-969f-437a-b51d-523d51753ff8",
   "metadata": {},
   "outputs": [],
   "source": [
    "#df_test.shape"
   ]
  },
  {
   "cell_type": "code",
   "execution_count": 5,
   "id": "8eec4800-b9e4-4210-ad28-6c8e681103f2",
   "metadata": {
    "tags": []
   },
   "outputs": [],
   "source": [
    "# Supondo que df_train tenha 40.000 linhas\n",
    "#df_val = df_train.sample(n=10000, random_state=42)  # Retira 10.000 linhas aleatórias\n",
    "#df_train = df_train.drop(df_val.index)      # Remove essas linhas do conjunto de treino"
   ]
  },
  {
   "cell_type": "code",
   "execution_count": 6,
   "id": "8c14ec0c-be49-43aa-b690-fa60c77a86a6",
   "metadata": {
    "tags": []
   },
   "outputs": [],
   "source": [
    "#df_val.shape"
   ]
  },
  {
   "cell_type": "code",
   "execution_count": 7,
   "id": "22c6e597-a476-4940-a103-389bec37f103",
   "metadata": {
    "tags": []
   },
   "outputs": [],
   "source": [
    "#df_train.shape"
   ]
  },
  {
   "cell_type": "code",
   "execution_count": null,
   "id": "0a21fc55-908d-4a2c-a300-673ac639f5ac",
   "metadata": {
    "tags": []
   },
   "outputs": [],
   "source": []
  }
 ],
 "metadata": {
  "kernelspec": {
   "display_name": "Python 3 (ipykernel)",
   "language": "python",
   "name": "python3"
  },
  "language_info": {
   "codemirror_mode": {
    "name": "ipython",
    "version": 3
   },
   "file_extension": ".py",
   "mimetype": "text/x-python",
   "name": "python",
   "nbconvert_exporter": "python",
   "pygments_lexer": "ipython3",
   "version": "3.11.5"
  }
 },
 "nbformat": 4,
 "nbformat_minor": 5
}
