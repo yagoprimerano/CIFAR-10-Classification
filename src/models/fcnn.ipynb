{
 "cells": [
  {
   "cell_type": "code",
   "execution_count": 25,
   "id": "a3d34841-d025-4fbb-9091-c3356447d98f",
   "metadata": {
    "tags": []
   },
   "outputs": [],
   "source": [
    "import tensorflow as tf\n",
    "import numpy as np\n",
    "from tensorflow.keras.datasets import cifar10\n",
    "import random\n",
    "import matplotlib.pyplot as plt\n",
    "from tensorflow.keras.preprocessing.image import ImageDataGenerator\n",
    "from sklearn.model_selection import train_test_split\n",
    "import pandas as pd"
   ]
  },
  {
   "cell_type": "code",
   "execution_count": 26,
   "id": "f31e1878-99a1-4415-9013-25544ff2501c",
   "metadata": {
    "tags": []
   },
   "outputs": [
    {
     "name": "stdout",
     "output_type": "stream",
     "text": [
      "x_train shape: (50000, 32, 32, 3)\n",
      "y_train shape: (50000, 1)\n",
      "x_test shape: (10000, 32, 32, 3)\n",
      "y_test shape: (10000, 1)\n"
     ]
    }
   ],
   "source": [
    "# Carregar os dados CIFAR-10\n",
    "(x_train, y_train), (x_test, y_test) = cifar10.load_data()\n",
    "\n",
    "# Verificar as formas dos conjuntos de dados\n",
    "print(f'x_train shape: {x_train.shape}')\n",
    "print(f'y_train shape: {y_train.shape}')\n",
    "print(f'x_test shape: {x_test.shape}')\n",
    "print(f'y_test shape: {y_test.shape}')"
   ]
  },
  {
   "cell_type": "markdown",
   "id": "5d329dc4-678e-4070-861a-87db2b9d6f83",
   "metadata": {},
   "source": [
    "The RGB channel values are in the [0, 255] range. This is not ideal for a neural network; in general you should seek to make your input values small."
   ]
  },
  {
   "cell_type": "code",
   "execution_count": 27,
   "id": "dcfa1ec8-375c-401e-adb6-ecb999f67a60",
   "metadata": {
    "tags": []
   },
   "outputs": [],
   "source": [
    "# Normalizar os dados\n",
    "x_train = x_train.astype('float32') / 255.0\n",
    "x_test = x_test.astype('float32') / 255.0"
   ]
  },
  {
   "cell_type": "code",
   "execution_count": 28,
   "id": "a2fd458e-0ce1-4b5e-bb97-2e43d68bdef5",
   "metadata": {
    "tags": []
   },
   "outputs": [],
   "source": [
    "# Separar um conjunto de validação manualmente\n",
    "x_train, x_val, y_train, y_val = train_test_split(x_train, y_train,\n",
    "                                                  test_size=0.2, random_state=42)"
   ]
  },
  {
   "cell_type": "code",
   "execution_count": 29,
   "id": "9efa3656-c170-490c-bf8b-4d8fe5dfc0f6",
   "metadata": {
    "tags": []
   },
   "outputs": [],
   "source": [
    "class_names = [\"airplane\", \"automobile\", \"bird\", \"cat\", \"deer\", \n",
    "               \"dog\", \"frog\", \"horse\", \"ship\", \"truck\"]"
   ]
  },
  {
   "cell_type": "code",
   "execution_count": 30,
   "id": "9a3f9f64-0e6d-4ae2-aa73-6344edbfcb8e",
   "metadata": {},
   "outputs": [],
   "source": [
    "#  Early stopping set after 4 epochs\n",
    "stop_early = tf.keras.callbacks.EarlyStopping(monitor='val_loss', patience=4)"
   ]
  },
  {
   "cell_type": "markdown",
   "id": "2b68eac3-6c25-44dd-9696-4ba4f28490fc",
   "metadata": {
    "jp-MarkdownHeadingCollapsed": true,
    "tags": []
   },
   "source": [
    "# Funções úteis"
   ]
  },
  {
   "cell_type": "code",
   "execution_count": 7,
   "id": "a50c514a-2a30-43d0-b95f-1803d4e353ce",
   "metadata": {
    "tags": []
   },
   "outputs": [],
   "source": [
    "# defining the function\n",
    "def evaluate_model(model, X_test, y_test):\n",
    "\n",
    "    # Evauting the model using teh testing dataset\n",
    "    eval_dict = model.evaluate(X_test, y_test, return_dict=True)\n",
    "    \n",
    "    # converting the evaluation ( accuracy and loss) to pandas dataframe\n",
    "    result = pd.DataFrame([eval_dict.values()], columns=[list(eval_dict.keys())])\n",
    "    \n",
    "    # returining dataframe\n",
    "    return result"
   ]
  },
  {
   "cell_type": "code",
   "execution_count": 8,
   "id": "2f7980e1-94c9-4551-b40f-baeb004af22b",
   "metadata": {},
   "outputs": [],
   "source": [
    "# Perda (erro) no treino e validação ao longo das épocas\n",
    "def plot_loss(history, name):\n",
    "    plt.plot(history.history['loss'], label='Erro Treino')\n",
    "    plt.plot(history.history['val_loss'], label='Erro Validação')\n",
    "    plt.title('Erro por Época - ' + name)\n",
    "    plt.xlabel('Épocas')\n",
    "    plt.ylabel('Erro (Perda)')\n",
    "    plt.legend()\n",
    "    plt.grid(True)\n",
    "    plt.show()"
   ]
  },
  {
   "cell_type": "markdown",
   "id": "3aa53884-a189-4607-ba09-8518b4810aac",
   "metadata": {
    "jp-MarkdownHeadingCollapsed": true,
    "tags": []
   },
   "source": [
    "# Modelo Baseline"
   ]
  },
  {
   "cell_type": "code",
   "execution_count": 9,
   "id": "8ac13fa4-512e-47b7-9913-4d378941df96",
   "metadata": {
    "tags": []
   },
   "outputs": [],
   "source": [
    "#model = tf.keras.Sequential([\n",
    "#    tf.keras.layers.Flatten(input_shape=(32, 32, 3)),\n",
    "#    tf.keras.layers.Dense(128, activation='relu'),\n",
    "#    tf.keras.layers.Dense(10, activation='softmax')\n",
    "#])\n",
    "\n",
    "# Definir o modelo\n",
    "def build_model():\n",
    "    model = tf.keras.Sequential([\n",
    "        tf.keras.layers.Flatten(input_shape=(32, 32, 3)),\n",
    "        tf.keras.layers.Dense(128, activation='relu'),\n",
    "        tf.keras.layers.Dense(10, activation='softmax')\n",
    "    ])\n",
    "    model.compile(optimizer='adam',\n",
    "                  loss=tf.keras.losses.SparseCategoricalCrossentropy(),\n",
    "                  metrics=['accuracy'])\n",
    "    return model"
   ]
  },
  {
   "cell_type": "code",
   "execution_count": 10,
   "id": "327a5509-2e50-4e8f-b0b1-03b841684e9d",
   "metadata": {
    "tags": []
   },
   "outputs": [
    {
     "name": "stderr",
     "output_type": "stream",
     "text": [
      "/home/yagoth/anaconda3/lib/python3.11/site-packages/keras/src/layers/reshaping/flatten.py:37: UserWarning: Do not pass an `input_shape`/`input_dim` argument to a layer. When using Sequential models, prefer using an `Input(shape)` object as the first layer in the model instead.\n",
      "  super().__init__(**kwargs)\n"
     ]
    },
    {
     "data": {
      "text/html": [
       "<pre style=\"white-space:pre;overflow-x:auto;line-height:normal;font-family:Menlo,'DejaVu Sans Mono',consolas,'Courier New',monospace\"><span style=\"font-weight: bold\">Model: \"sequential\"</span>\n",
       "</pre>\n"
      ],
      "text/plain": [
       "\u001b[1mModel: \"sequential\"\u001b[0m\n"
      ]
     },
     "metadata": {},
     "output_type": "display_data"
    },
    {
     "data": {
      "text/html": [
       "<pre style=\"white-space:pre;overflow-x:auto;line-height:normal;font-family:Menlo,'DejaVu Sans Mono',consolas,'Courier New',monospace\">┏━━━━━━━━━━━━━━━━━━━━━━━━━━━━━━━━━┳━━━━━━━━━━━━━━━━━━━━━━━━┳━━━━━━━━━━━━━━━┓\n",
       "┃<span style=\"font-weight: bold\"> Layer (type)                    </span>┃<span style=\"font-weight: bold\"> Output Shape           </span>┃<span style=\"font-weight: bold\">       Param # </span>┃\n",
       "┡━━━━━━━━━━━━━━━━━━━━━━━━━━━━━━━━━╇━━━━━━━━━━━━━━━━━━━━━━━━╇━━━━━━━━━━━━━━━┩\n",
       "│ flatten (<span style=\"color: #0087ff; text-decoration-color: #0087ff\">Flatten</span>)               │ (<span style=\"color: #00d7ff; text-decoration-color: #00d7ff\">None</span>, <span style=\"color: #00af00; text-decoration-color: #00af00\">3072</span>)           │             <span style=\"color: #00af00; text-decoration-color: #00af00\">0</span> │\n",
       "├─────────────────────────────────┼────────────────────────┼───────────────┤\n",
       "│ dense (<span style=\"color: #0087ff; text-decoration-color: #0087ff\">Dense</span>)                   │ (<span style=\"color: #00d7ff; text-decoration-color: #00d7ff\">None</span>, <span style=\"color: #00af00; text-decoration-color: #00af00\">128</span>)            │       <span style=\"color: #00af00; text-decoration-color: #00af00\">393,344</span> │\n",
       "├─────────────────────────────────┼────────────────────────┼───────────────┤\n",
       "│ dense_1 (<span style=\"color: #0087ff; text-decoration-color: #0087ff\">Dense</span>)                 │ (<span style=\"color: #00d7ff; text-decoration-color: #00d7ff\">None</span>, <span style=\"color: #00af00; text-decoration-color: #00af00\">10</span>)             │         <span style=\"color: #00af00; text-decoration-color: #00af00\">1,290</span> │\n",
       "└─────────────────────────────────┴────────────────────────┴───────────────┘\n",
       "</pre>\n"
      ],
      "text/plain": [
       "┏━━━━━━━━━━━━━━━━━━━━━━━━━━━━━━━━━┳━━━━━━━━━━━━━━━━━━━━━━━━┳━━━━━━━━━━━━━━━┓\n",
       "┃\u001b[1m \u001b[0m\u001b[1mLayer (type)                   \u001b[0m\u001b[1m \u001b[0m┃\u001b[1m \u001b[0m\u001b[1mOutput Shape          \u001b[0m\u001b[1m \u001b[0m┃\u001b[1m \u001b[0m\u001b[1m      Param #\u001b[0m\u001b[1m \u001b[0m┃\n",
       "┡━━━━━━━━━━━━━━━━━━━━━━━━━━━━━━━━━╇━━━━━━━━━━━━━━━━━━━━━━━━╇━━━━━━━━━━━━━━━┩\n",
       "│ flatten (\u001b[38;5;33mFlatten\u001b[0m)               │ (\u001b[38;5;45mNone\u001b[0m, \u001b[38;5;34m3072\u001b[0m)           │             \u001b[38;5;34m0\u001b[0m │\n",
       "├─────────────────────────────────┼────────────────────────┼───────────────┤\n",
       "│ dense (\u001b[38;5;33mDense\u001b[0m)                   │ (\u001b[38;5;45mNone\u001b[0m, \u001b[38;5;34m128\u001b[0m)            │       \u001b[38;5;34m393,344\u001b[0m │\n",
       "├─────────────────────────────────┼────────────────────────┼───────────────┤\n",
       "│ dense_1 (\u001b[38;5;33mDense\u001b[0m)                 │ (\u001b[38;5;45mNone\u001b[0m, \u001b[38;5;34m10\u001b[0m)             │         \u001b[38;5;34m1,290\u001b[0m │\n",
       "└─────────────────────────────────┴────────────────────────┴───────────────┘\n"
      ]
     },
     "metadata": {},
     "output_type": "display_data"
    },
    {
     "data": {
      "text/html": [
       "<pre style=\"white-space:pre;overflow-x:auto;line-height:normal;font-family:Menlo,'DejaVu Sans Mono',consolas,'Courier New',monospace\"><span style=\"font-weight: bold\"> Total params: </span><span style=\"color: #00af00; text-decoration-color: #00af00\">394,634</span> (1.51 MB)\n",
       "</pre>\n"
      ],
      "text/plain": [
       "\u001b[1m Total params: \u001b[0m\u001b[38;5;34m394,634\u001b[0m (1.51 MB)\n"
      ]
     },
     "metadata": {},
     "output_type": "display_data"
    },
    {
     "data": {
      "text/html": [
       "<pre style=\"white-space:pre;overflow-x:auto;line-height:normal;font-family:Menlo,'DejaVu Sans Mono',consolas,'Courier New',monospace\"><span style=\"font-weight: bold\"> Trainable params: </span><span style=\"color: #00af00; text-decoration-color: #00af00\">394,634</span> (1.51 MB)\n",
       "</pre>\n"
      ],
      "text/plain": [
       "\u001b[1m Trainable params: \u001b[0m\u001b[38;5;34m394,634\u001b[0m (1.51 MB)\n"
      ]
     },
     "metadata": {},
     "output_type": "display_data"
    },
    {
     "data": {
      "text/html": [
       "<pre style=\"white-space:pre;overflow-x:auto;line-height:normal;font-family:Menlo,'DejaVu Sans Mono',consolas,'Courier New',monospace\"><span style=\"font-weight: bold\"> Non-trainable params: </span><span style=\"color: #00af00; text-decoration-color: #00af00\">0</span> (0.00 B)\n",
       "</pre>\n"
      ],
      "text/plain": [
       "\u001b[1m Non-trainable params: \u001b[0m\u001b[38;5;34m0\u001b[0m (0.00 B)\n"
      ]
     },
     "metadata": {},
     "output_type": "display_data"
    }
   ],
   "source": [
    "model = build_model()\n",
    "\n",
    "model.compile(optimizer='adam',\n",
    "              loss=tf.keras.losses.SparseCategoricalCrossentropy(),\n",
    "              metrics=['accuracy'])\n",
    "\n",
    "model.summary()"
   ]
  },
  {
   "cell_type": "code",
   "execution_count": 11,
   "id": "6855a067-b7a0-4db1-a345-45b970e01f3d",
   "metadata": {
    "tags": []
   },
   "outputs": [],
   "source": [
    "# Função para treinar e avaliar o modelo sem data augmentation\n",
    "def train_without_augmentation():\n",
    "    model = build_model()\n",
    "    history = model.fit(x_train, y_train, epochs=20, validation_data=(x_val, y_val), callbacks=[stop_early], verbose=2)\n",
    "    results = evaluate_model(model, x_val, y_val)\n",
    "    return results, history"
   ]
  },
  {
   "cell_type": "code",
   "execution_count": 12,
   "id": "bb9e8c8c-729c-432a-b27a-463c963db858",
   "metadata": {
    "tags": []
   },
   "outputs": [],
   "source": [
    "# Aplicando data augmentation\n",
    "datagen = ImageDataGenerator(\n",
    "    rotation_range=20,\n",
    "    width_shift_range=0.2,\n",
    "    height_shift_range=0.2,\n",
    "    horizontal_flip=True,\n",
    "    zoom_range=0.2\n",
    ")\n",
    "\n",
    "# Preparando o gerador de dados com data augmentation\n",
    "datagen.fit(x_train)\n",
    "\n",
    "# Função para treinar e avaliar o modelo com data augmentation\n",
    "def train_with_augmentation():\n",
    "    model = build_model()\n",
    "    history = model.fit(datagen.flow(x_train, y_train, batch_size=32),\n",
    "                        epochs=20,\n",
    "                        validation_data=(x_val, y_val),\n",
    "                        callbacks=[stop_early],\n",
    "                        verbose=2)\n",
    "    results = evaluate_model(model, x_val, y_val)\n",
    "    return results, history"
   ]
  },
  {
   "cell_type": "code",
   "execution_count": 13,
   "id": "eb210214-62b0-4627-a729-aa2619438356",
   "metadata": {},
   "outputs": [
    {
     "name": "stdout",
     "output_type": "stream",
     "text": [
      "Treinando sem data augmentation...\n",
      "Epoch 1/20\n",
      "1250/1250 - 4s - 3ms/step - accuracy: 0.3162 - loss: 1.9149 - val_accuracy: 0.3587 - val_loss: 1.7943\n",
      "Epoch 2/20\n",
      "1250/1250 - 3s - 2ms/step - accuracy: 0.3734 - loss: 1.7599 - val_accuracy: 0.3610 - val_loss: 1.7734\n",
      "Epoch 3/20\n",
      "1250/1250 - 3s - 3ms/step - accuracy: 0.3920 - loss: 1.7037 - val_accuracy: 0.4086 - val_loss: 1.6659\n",
      "Epoch 4/20\n",
      "1250/1250 - 3s - 2ms/step - accuracy: 0.4055 - loss: 1.6670 - val_accuracy: 0.3968 - val_loss: 1.6808\n",
      "Epoch 5/20\n",
      "1250/1250 - 3s - 2ms/step - accuracy: 0.4160 - loss: 1.6466 - val_accuracy: 0.4211 - val_loss: 1.6356\n",
      "Epoch 6/20\n",
      "1250/1250 - 3s - 2ms/step - accuracy: 0.4251 - loss: 1.6220 - val_accuracy: 0.4092 - val_loss: 1.6535\n",
      "Epoch 7/20\n",
      "1250/1250 - 3s - 3ms/step - accuracy: 0.4282 - loss: 1.6085 - val_accuracy: 0.4027 - val_loss: 1.6836\n",
      "Epoch 8/20\n",
      "1250/1250 - 3s - 2ms/step - accuracy: 0.4332 - loss: 1.5895 - val_accuracy: 0.4181 - val_loss: 1.6331\n",
      "Epoch 9/20\n",
      "1250/1250 - 3s - 2ms/step - accuracy: 0.4408 - loss: 1.5747 - val_accuracy: 0.4315 - val_loss: 1.5888\n",
      "Epoch 10/20\n",
      "1250/1250 - 3s - 3ms/step - accuracy: 0.4480 - loss: 1.5626 - val_accuracy: 0.4286 - val_loss: 1.6129\n",
      "Epoch 11/20\n",
      "1250/1250 - 3s - 2ms/step - accuracy: 0.4488 - loss: 1.5523 - val_accuracy: 0.4299 - val_loss: 1.5904\n",
      "Epoch 12/20\n",
      "1250/1250 - 3s - 3ms/step - accuracy: 0.4498 - loss: 1.5446 - val_accuracy: 0.4361 - val_loss: 1.5779\n",
      "Epoch 13/20\n",
      "1250/1250 - 3s - 3ms/step - accuracy: 0.4552 - loss: 1.5290 - val_accuracy: 0.4364 - val_loss: 1.5812\n",
      "Epoch 14/20\n",
      "1250/1250 - 3s - 3ms/step - accuracy: 0.4577 - loss: 1.5290 - val_accuracy: 0.4384 - val_loss: 1.5728\n",
      "Epoch 15/20\n",
      "1250/1250 - 3s - 3ms/step - accuracy: 0.4588 - loss: 1.5196 - val_accuracy: 0.4409 - val_loss: 1.5661\n",
      "Epoch 16/20\n",
      "1250/1250 - 3s - 3ms/step - accuracy: 0.4630 - loss: 1.5108 - val_accuracy: 0.4400 - val_loss: 1.5783\n",
      "Epoch 17/20\n",
      "1250/1250 - 3s - 3ms/step - accuracy: 0.4665 - loss: 1.5067 - val_accuracy: 0.4222 - val_loss: 1.6187\n",
      "Epoch 18/20\n",
      "1250/1250 - 3s - 3ms/step - accuracy: 0.4661 - loss: 1.4998 - val_accuracy: 0.4337 - val_loss: 1.5915\n",
      "Epoch 19/20\n",
      "1250/1250 - 3s - 3ms/step - accuracy: 0.4679 - loss: 1.4943 - val_accuracy: 0.4455 - val_loss: 1.5617\n",
      "Epoch 20/20\n",
      "1250/1250 - 3s - 2ms/step - accuracy: 0.4717 - loss: 1.4865 - val_accuracy: 0.4471 - val_loss: 1.5750\n",
      "\u001b[1m313/313\u001b[0m \u001b[32m━━━━━━━━━━━━━━━━━━━━\u001b[0m\u001b[37m\u001b[0m \u001b[1m0s\u001b[0m 717us/step - accuracy: 0.4444 - loss: 1.5750\n",
      "Treinando com data augmentation...\n",
      "Epoch 1/20\n"
     ]
    },
    {
     "name": "stderr",
     "output_type": "stream",
     "text": [
      "/home/yagoth/anaconda3/lib/python3.11/site-packages/keras/src/layers/reshaping/flatten.py:37: UserWarning: Do not pass an `input_shape`/`input_dim` argument to a layer. When using Sequential models, prefer using an `Input(shape)` object as the first layer in the model instead.\n",
      "  super().__init__(**kwargs)\n",
      "/home/yagoth/anaconda3/lib/python3.11/site-packages/keras/src/trainers/data_adapters/py_dataset_adapter.py:121: UserWarning: Your `PyDataset` class should call `super().__init__(**kwargs)` in its constructor. `**kwargs` can include `workers`, `use_multiprocessing`, `max_queue_size`. Do not pass these arguments to `fit()`, as they will be ignored.\n",
      "  self._warn_if_super_not_called()\n"
     ]
    },
    {
     "name": "stdout",
     "output_type": "stream",
     "text": [
      "1250/1250 - 13s - 11ms/step - accuracy: 0.2426 - loss: 2.0734 - val_accuracy: 0.3260 - val_loss: 1.8963\n",
      "Epoch 2/20\n",
      "1250/1250 - 13s - 10ms/step - accuracy: 0.2838 - loss: 1.9782 - val_accuracy: 0.3334 - val_loss: 1.8455\n",
      "Epoch 3/20\n",
      "1250/1250 - 13s - 10ms/step - accuracy: 0.2962 - loss: 1.9456 - val_accuracy: 0.3527 - val_loss: 1.8140\n",
      "Epoch 4/20\n",
      "1250/1250 - 13s - 11ms/step - accuracy: 0.3027 - loss: 1.9185 - val_accuracy: 0.3561 - val_loss: 1.7960\n",
      "\u001b[1m313/313\u001b[0m \u001b[32m━━━━━━━━━━━━━━━━━━━━\u001b[0m\u001b[37m\u001b[0m \u001b[1m0s\u001b[0m 630us/step - accuracy: 0.3571 - loss: 1.7891\n"
     ]
    }
   ],
   "source": [
    "# Treinando sem data augmentation\n",
    "print(\"Treinando sem data augmentation...\")\n",
    "results_no_aug, hist_no_aug = train_without_augmentation()\n",
    "\n",
    "# Treinando com data augmentation\n",
    "print(\"Treinando com data augmentation...\")\n",
    "results_with_aug, hist_with_aug = train_with_augmentation()"
   ]
  },
  {
   "cell_type": "code",
   "execution_count": 14,
   "id": "948f3a15-9271-4b3a-8b43-c042393a130f",
   "metadata": {},
   "outputs": [
    {
     "data": {
      "image/png": "[encoded data removed]",
      "text/plain": [
       "<Figure size 640x480 with 1 Axes>"
      ]
     },
     "metadata": {},
     "output_type": "display_data"
    }
   ],
   "source": [
    "plot_loss(hist_no_aug, 'no augmentation')"
   ]
  },
  {
   "cell_type": "code",
   "execution_count": 15,
   "id": "fd16eb2a-c7db-4bed-affb-92ec614d7179",
   "metadata": {},
   "outputs": [
    {
     "data": {
      "image/png": "[encoded data removed]",
      "text/plain": [
       "<Figure size 640x480 with 1 Axes>"
      ]
     },
     "metadata": {},
     "output_type": "display_data"
    }
   ],
   "source": [
    "plot_loss(hist_with_aug, 'with augmentation')"
   ]
  },
  {
   "cell_type": "code",
   "execution_count": 24,
   "id": "efd013ba-db72-4a59-a829-c3bcdb88f25b",
   "metadata": {},
   "outputs": [
    {
     "name": "stdout",
     "output_type": "stream",
     "text": [
      "Resultados sem data augmentation:\n",
      "  accuracy      loss\n",
      "0   0.4471  1.574953\n",
      "Resultados com data augmentation:\n",
      "  accuracy      loss\n",
      "0   0.3561  1.795953\n"
     ]
    }
   ],
   "source": [
    "# Comparando os resultados\n",
    "print(\"Resultados sem data augmentation:\")\n",
    "print(results_no_aug)\n",
    "\n",
    "print(\"Resultados com data augmentation:\")\n",
    "print(results_with_aug)"
   ]
  },
  {
   "cell_type": "markdown",
   "id": "216f85db-f8ec-4c95-8219-0ba08ba58c7a",
   "metadata": {},
   "source": [
    "# Hyperparameter Tuning"
   ]
  },
  {
   "cell_type": "code",
   "execution_count": 31,
   "id": "b2421c48-18d0-499b-b7e0-5e5f55289af9",
   "metadata": {},
   "outputs": [],
   "source": [
    "# creating function\n",
    "def build_model(hyper_parameter):\n",
    "\n",
    "    # building the model\n",
    "    model = tf.keras.Sequential()\n",
    "\n",
    "    # flattenting the images\n",
    "    model.add(tf.keras.layers.Flatten(input_shape=(32, 32, 3)))\n",
    "\n",
    "    # tunning hidden layers (1-3), units ( 50 -300),\n",
    "    for i in range(1, hyper_parameter.Int(\"num_layers\", 2, 4)):\n",
    "        model.add(\n",
    "            tf.keras.layers.Dense(\n",
    "                units=hyper_parameter.Int(\"units_\" + str(i), min_value=50, max_value=300, step=30),\n",
    "                activation=\"relu\")\n",
    "            )\n",
    "        \n",
    "        # drop out layer with values form 0-0.3\n",
    "        model.add(tf.keras.layers.Dropout(hyper_parameter.Float(\"dropout_\" + str(i), 0, 0.3, step=0.1)))\n",
    "    \n",
    "    # Add output layer.\n",
    "    model.add(tf.keras.layers.Dense(units=10, activation=\"softmax\"))\n",
    "    \n",
    "    # Tune learning from 0.01, 0.001\n",
    "    hyper_parameter_learning_rate = hyper_parameter.Choice(\"learning_rate\", values=[1e-2, 1e-3, 1e-4])\n",
    "    \n",
    "    # Define optimizer, loss, and metrics\n",
    "    model.compile(optimizer=tf.keras.optimizers.Adam(learning_rate=hyper_parameter_learning_rate),\n",
    "                  loss=tf.keras.losses.SparseCategoricalCrossentropy(),\n",
    "                  metrics=[\"accuracy\"])\n",
    "    \n",
    "    return model"
   ]
  },
  {
   "cell_type": "code",
   "execution_count": 32,
   "id": "80983789-0a76-4e31-9480-e9edac7fbbfd",
   "metadata": {
    "tags": []
   },
   "outputs": [],
   "source": [
    "# early stop function for hyperparameter tuning of neural network\n",
    "stop_early = tf.keras.callbacks.EarlyStopping(monitor='val_loss', patience=5)"
   ]
  },
  {
   "cell_type": "markdown",
   "id": "3e9b0320-d453-4984-936b-65bf43e8e594",
   "metadata": {
    "tags": []
   },
   "source": [
    "## Hyperband"
   ]
  },
  {
   "cell_type": "code",
   "execution_count": 34,
   "id": "8a52f53e-1457-4669-84a7-83cd94d58130",
   "metadata": {
    "tags": []
   },
   "outputs": [
    {
     "name": "stdout",
     "output_type": "stream",
     "text": [
      "Reloading Tuner from kt_dir/kt_hyperband/tuner0.json\n"
     ]
    }
   ],
   "source": [
    "# importing the karas tuner\n",
    "import keras_tuner as kt\n",
    "\n",
    "# Instantiate the tuner\n",
    "tuner = kt.Hyperband(build_model,\n",
    "                     objective=\"val_accuracy\",\n",
    "                     max_epochs=20,\n",
    "                     factor=3,\n",
    "                     hyperband_iterations=10,\n",
    "                     directory=\"kt_dir_fcnn\",\n",
    "                     project_name=\"kt_hyperband_fcnn\")"
   ]
  },
  {
   "cell_type": "code",
   "execution_count": null,
   "id": "88d1926e-e22a-4b81-90ea-a8659b6797e3",
   "metadata": {
    "tags": []
   },
   "outputs": [],
   "source": [
    "tuner.search(x_train, y_train,\n",
    "             epochs=5,\n",
    "             validation_data=(x_val, y_val),\n",
    "            callbacks=[stop_early],\n",
    "            verbose=3)"
   ]
  },
  {
   "cell_type": "markdown",
   "id": "e3bdf98c-e194-44b9-a2a9-9c0971f951e5",
   "metadata": {},
   "source": [
    "## Random Search"
   ]
  },
  {
   "cell_type": "code",
   "execution_count": 21,
   "id": "0f65fc8b-24dd-4b19-a540-7ebc253cf5d2",
   "metadata": {
    "tags": []
   },
   "outputs": [
    {
     "name": "stdout",
     "output_type": "stream",
     "text": [
      "Reloading Tuner from ./random_search_example/tuner0.json\n"
     ]
    }
   ],
   "source": [
    "from keras_tuner import RandomSearch\n",
    "\n",
    "\n",
    "tuner = RandomSearch(\n",
    "    build_model,\n",
    "    objective='val_accuracy',  # O objetivo a ser otimizado\n",
    "    max_trials=3,  # Número de combinações de hiperparâmetros para testar\n",
    "    executions_per_trial=3,  # Número de execuções para cada conjunto de hiperparâmetros\n",
    "    directory='my_dir',  # Diretório para salvar os resultados\n",
    "    project_name='random_search_example'\n",
    ")"
   ]
  },
  {
   "cell_type": "code",
   "execution_count": 22,
   "id": "72bb29de-dc30-49da-afcf-a1614540fcde",
   "metadata": {},
   "outputs": [
    {
     "name": "stdout",
     "output_type": "stream",
     "text": [
      "Search space summary\n",
      "Default search space size: 6\n",
      "num_layers (Int)\n",
      "{'default': None, 'conditions': [], 'min_value': 2, 'max_value': 4, 'step': 1, 'sampling': 'linear'}\n",
      "units_1 (Int)\n",
      "{'default': None, 'conditions': [], 'min_value': 50, 'max_value': 300, 'step': 30, 'sampling': 'linear'}\n",
      "dropout_1 (Float)\n",
      "{'default': 0.0, 'conditions': [], 'min_value': 0.0, 'max_value': 0.3, 'step': 0.1, 'sampling': 'linear'}\n",
      "learning_rate (Choice)\n",
      "{'default': 0.01, 'conditions': [], 'values': [0.01, 0.001, 0.0001], 'ordered': True}\n",
      "units_2 (Int)\n",
      "{'default': None, 'conditions': [], 'min_value': 50, 'max_value': 300, 'step': 30, 'sampling': 'linear'}\n",
      "dropout_2 (Float)\n",
      "{'default': 0.0, 'conditions': [], 'min_value': 0.0, 'max_value': 0.3, 'step': 0.1, 'sampling': 'linear'}\n"
     ]
    }
   ],
   "source": [
    "# summary of tuner\n",
    "tuner.search_space_summary()"
   ]
  },
  {
   "cell_type": "code",
   "execution_count": 23,
   "id": "eb71d2f4-f0d0-4cfe-b117-85643193c1fb",
   "metadata": {
    "tags": []
   },
   "outputs": [],
   "source": [
    "tuner.search(x_train, y_train,\n",
    "             epochs=5,\n",
    "             validation_data=(x_val, y_val),\n",
    "            callbacks=[stop_early])"
   ]
  },
  {
   "cell_type": "markdown",
   "id": "e1c63a48-7d04-41a4-b080-c87ae3631b37",
   "metadata": {},
   "source": [
    "## Treina com melhores hiperparâmetros"
   ]
  },
  {
   "cell_type": "code",
   "execution_count": 24,
   "id": "d5e9c509-a00c-4fdc-a6d1-fd778707e87a",
   "metadata": {
    "tags": []
   },
   "outputs": [
    {
     "name": "stderr",
     "output_type": "stream",
     "text": [
      "/home/yagoth/anaconda3/lib/python3.11/site-packages/keras/src/layers/reshaping/flatten.py:37: UserWarning: Do not pass an `input_shape`/`input_dim` argument to a layer. When using Sequential models, prefer using an `Input(shape)` object as the first layer in the model instead.\n",
      "  super().__init__(**kwargs)\n"
     ]
    },
    {
     "name": "stdout",
     "output_type": "stream",
     "text": [
      "Epoch 1/20\n",
      "1250/1250 - 6s - 5ms/step - accuracy: 0.3085 - loss: 1.9400 - val_accuracy: 0.3641 - val_loss: 1.7949\n",
      "Epoch 2/20\n",
      "1250/1250 - 5s - 4ms/step - accuracy: 0.3806 - loss: 1.7571 - val_accuracy: 0.3838 - val_loss: 1.7372\n",
      "Epoch 3/20\n",
      "1250/1250 - 5s - 4ms/step - accuracy: 0.4043 - loss: 1.6835 - val_accuracy: 0.4078 - val_loss: 1.6630\n",
      "Epoch 4/20\n",
      "1250/1250 - 5s - 4ms/step - accuracy: 0.4238 - loss: 1.6310 - val_accuracy: 0.4131 - val_loss: 1.6366\n",
      "Epoch 5/20\n",
      "1250/1250 - 5s - 4ms/step - accuracy: 0.4399 - loss: 1.5870 - val_accuracy: 0.4247 - val_loss: 1.6244\n",
      "Epoch 6/20\n",
      "1250/1250 - 5s - 4ms/step - accuracy: 0.4527 - loss: 1.5557 - val_accuracy: 0.4405 - val_loss: 1.5786\n",
      "Epoch 7/20\n",
      "1250/1250 - 5s - 4ms/step - accuracy: 0.4638 - loss: 1.5235 - val_accuracy: 0.4464 - val_loss: 1.5486\n",
      "Epoch 8/20\n",
      "1250/1250 - 9s - 8ms/step - accuracy: 0.4746 - loss: 1.4963 - val_accuracy: 0.4459 - val_loss: 1.5489\n",
      "Epoch 9/20\n",
      "1250/1250 - 10s - 8ms/step - accuracy: 0.4832 - loss: 1.4698 - val_accuracy: 0.4602 - val_loss: 1.5223\n",
      "Epoch 10/20\n",
      "1250/1250 - 10s - 8ms/step - accuracy: 0.4904 - loss: 1.4515 - val_accuracy: 0.4683 - val_loss: 1.5059\n",
      "Epoch 11/20\n",
      "1250/1250 - 10s - 8ms/step - accuracy: 0.4979 - loss: 1.4302 - val_accuracy: 0.4715 - val_loss: 1.4898\n",
      "Epoch 12/20\n",
      "1250/1250 - 11s - 8ms/step - accuracy: 0.5034 - loss: 1.4124 - val_accuracy: 0.4685 - val_loss: 1.5105\n",
      "Epoch 13/20\n",
      "1250/1250 - 11s - 9ms/step - accuracy: 0.5111 - loss: 1.3914 - val_accuracy: 0.4817 - val_loss: 1.4706\n",
      "Epoch 14/20\n",
      "1250/1250 - 12s - 9ms/step - accuracy: 0.5184 - loss: 1.3762 - val_accuracy: 0.4692 - val_loss: 1.4903\n",
      "Epoch 15/20\n",
      "1250/1250 - 11s - 9ms/step - accuracy: 0.5252 - loss: 1.3561 - val_accuracy: 0.4841 - val_loss: 1.4549\n",
      "Epoch 16/20\n",
      "1250/1250 - 11s - 9ms/step - accuracy: 0.5282 - loss: 1.3443 - val_accuracy: 0.4785 - val_loss: 1.4690\n",
      "Epoch 17/20\n",
      "1250/1250 - 10s - 8ms/step - accuracy: 0.5318 - loss: 1.3286 - val_accuracy: 0.4773 - val_loss: 1.4778\n",
      "Epoch 18/20\n",
      "1250/1250 - 10s - 8ms/step - accuracy: 0.5404 - loss: 1.3152 - val_accuracy: 0.4968 - val_loss: 1.4277\n",
      "Epoch 19/20\n",
      "1250/1250 - 10s - 8ms/step - accuracy: 0.5419 - loss: 1.3034 - val_accuracy: 0.4866 - val_loss: 1.4608\n",
      "Epoch 20/20\n",
      "1250/1250 - 10s - 8ms/step - accuracy: 0.5502 - loss: 1.2866 - val_accuracy: 0.4920 - val_loss: 1.4534\n"
     ]
    }
   ],
   "source": [
    "# Get the optimum values for parameters\n",
    "best_hps=tuner.get_best_hyperparameters()[0]\n",
    "\n",
    "# Build model on optimum paramters\n",
    "optimum_model = tuner.hypermodel.build(best_hps)\n",
    "\n",
    "# Train the hypertuned model\n",
    "history = optimum_model.fit(x_train, y_train, validation_data=(x_val, y_val),\n",
    "                            callbacks=[stop_early], epochs=20, verbose=2)"
   ]
  },
  {
   "cell_type": "code",
   "execution_count": 25,
   "id": "9da57309-e38f-423f-9863-c9bbd36d36b8",
   "metadata": {},
   "outputs": [
    {
     "data": {
      "image/png": "[encoded data removed]",
      "text/plain": [
       "<Figure size 640x480 with 1 Axes>"
      ]
     },
     "metadata": {},
     "output_type": "display_data"
    }
   ],
   "source": [
    "plot_loss(history, 'optimum_model')"
   ]
  },
  {
   "cell_type": "code",
   "execution_count": 26,
   "id": "9f8c6e14-df1e-4870-97fa-e4e4eb54f7fb",
   "metadata": {
    "tags": []
   },
   "outputs": [
    {
     "name": "stdout",
     "output_type": "stream",
     "text": [
      "\u001b[1m313/313\u001b[0m \u001b[32m━━━━━━━━━━━━━━━━━━━━\u001b[0m\u001b[37m\u001b[0m \u001b[1m1s\u001b[0m 3ms/step - accuracy: 0.4940 - loss: 1.4383\n"
     ]
    },
    {
     "data": {
      "text/html": [
       "<div>\n",
       "<style scoped>\n",
       "    .dataframe tbody tr th:only-of-type {\n",
       "        vertical-align: middle;\n",
       "    }\n",
       "\n",
       "    .dataframe tbody tr th {\n",
       "        vertical-align: top;\n",
       "    }\n",
       "\n",
       "    .dataframe thead tr th {\n",
       "        text-align: left;\n",
       "    }\n",
       "</style>\n",
       "<table border=\"1\" class=\"dataframe\">\n",
       "  <thead>\n",
       "    <tr>\n",
       "      <th></th>\n",
       "      <th>accuracy</th>\n",
       "      <th>loss</th>\n",
       "    </tr>\n",
       "  </thead>\n",
       "  <tbody>\n",
       "    <tr>\n",
       "      <th>0</th>\n",
       "      <td>0.4938</td>\n",
       "      <td>1.44284</td>\n",
       "    </tr>\n",
       "  </tbody>\n",
       "</table>\n",
       "</div>"
      ],
      "text/plain": [
       "  accuracy     loss\n",
       "0   0.4938  1.44284"
      ]
     },
     "execution_count": 26,
     "metadata": {},
     "output_type": "execute_result"
    }
   ],
   "source": [
    "# get te optimum models results\n",
    "hyper_df = evaluate_model(optimum_model, x_test, y_test)\n",
    "\n",
    "# adding result to the dataframe already created\n",
    "#results.append(hyper_df)\n",
    "\n",
    "# printing the results\n",
    "hyper_df.head()"
   ]
  },
  {
   "cell_type": "markdown",
   "id": "50d2c02a-2158-4fae-8c97-3f6cb12f8eee",
   "metadata": {},
   "source": [
    "# Referências"
   ]
  },
  {
   "cell_type": "markdown",
   "id": "6cd10859-3eb4-4cde-9d27-e4d152b2488f",
   "metadata": {},
   "source": [
    "- https://www.tensorflow.org/tutorials/keras/classification#build_the_model\n",
    "- https://pyihub.org/hyperparameter-tuning-of-neural-network/\n",
    "- https://github.com/YounesElhjouji/Fully-Connected-Cifar10-Classifier/blob/master/CIFAR10-Classifier.ipynb\n",
    "- https://github.com/Mostafa-Mansour/Image-classification-using-a-fully-connected-neural-network-/blob/master/Image%20classification%20using%20Keras.ipynb"
   ]
  },
  {
   "cell_type": "code",
   "execution_count": null,
   "id": "c988c14a-9bab-4128-9efa-0bf46edcdb07",
   "metadata": {},
   "outputs": [],
   "source": []
  },
  {
   "cell_type": "code",
   "execution_count": null,
   "id": "207b36a9-c619-4900-bf08-dd4a98730d7d",
   "metadata": {},
   "outputs": [],
   "source": []
  }
 ],
 "metadata": {
  "kernelspec": {
   "display_name": "Python 3 (ipykernel)",
   "language": "python",
   "name": "python3"
  },
  "language_info": {
   "codemirror_mode": {
    "name": "ipython",
    "version": 3
   },
   "file_extension": ".py",
   "mimetype": "text/x-python",
   "name": "python",
   "nbconvert_exporter": "python",
   "pygments_lexer": "ipython3",
   "version": "3.11.5"
  }
 },
 "nbformat": 4,
 "nbformat_minor": 5
}
